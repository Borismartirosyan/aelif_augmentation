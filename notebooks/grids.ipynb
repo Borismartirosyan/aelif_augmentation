{
 "cells": [
  {
   "cell_type": "code",
   "execution_count": 41,
   "id": "50677ea7-9caf-48bc-9ad8-d864255104c3",
   "metadata": {
    "tags": []
   },
   "outputs": [],
   "source": [
    "import numpy as np\n",
    "from PIL import Image\n",
    "import matplotlib.pyplot as plt\n",
    "import os\n",
    "from mpl_toolkits.axes_grid1 import ImageGrid\n",
    "\n",
    "def comparison_grid(\n",
    "    noise_conv_augmented_path = '/home/jupyter/aelif_augmentation/results_images/backpack/aug/',\n",
    "    mask_augmented_path = '/home/jupyter/aelif_augmentation/results_images/backpack/aug-mask/',\n",
    "    original_augmented_path = '/home/jupyter/aelif_augmentation/results_images/backpack/original/',\n",
    "    train_data_path = '/home/jupyter/aelif_augmentation/dreambooth/dataset/backpack/',\n",
    "    save_path = './comparison_output/',\n",
    "    image_size=(512, 512),\n",
    "    max_rows=None  # Optionally limit number of rows\n",
    "):\n",
    "    os.makedirs(save_path, exist_ok=True)\n",
    "\n",
    "    titles = [\"Noise Conv\", \"Mask\", \"Original\", \"Train Data\"]\n",
    "    noise_conv_augmented = [f'{noise_conv_augmented_path}{file}' for file in sorted(os.listdir(noise_conv_augmented_path))]\n",
    "    mask_augmented = [f'{mask_augmented_path}{file}' for file in sorted(os.listdir(mask_augmented_path))]\n",
    "    original_augmented = [f'{original_augmented_path}{file}' for file in sorted(os.listdir(original_augmented_path))]\n",
    "    train_data = [f'{train_data_path}{file}' for file in sorted(os.listdir(train_data_path))]\n",
    "\n",
    "    num_samples = len(noise_conv_augmented)\n",
    "    if max_rows:\n",
    "        num_samples = min(num_samples, max_rows)\n",
    "\n",
    "    fig = plt.figure(figsize=(16, 4 * num_samples))\n",
    "    grid = ImageGrid(fig, 111,\n",
    "        nrows_ncols=(num_samples, 4),\n",
    "        axes_pad=0.5,\n",
    "        share_all=True,\n",
    "        label_mode=\"L\"\n",
    "    )\n",
    "\n",
    "    for i in range(num_samples):\n",
    "        im1 = Image.open(noise_conv_augmented[i]).resize(image_size)\n",
    "        im2 = Image.open(mask_augmented[i]).resize(image_size)\n",
    "        im3 = Image.open(original_augmented[i]).resize(image_size)\n",
    "        im4 = Image.open(train_data[i]).resize(image_size)\n",
    "\n",
    "        images = [im1, im2, im3, im4]\n",
    "\n",
    "        for j in range(4):\n",
    "            ax = grid[i * 4 + j]\n",
    "            ax.imshow(images[j])\n",
    "            if i == 0:\n",
    "                ax.set_title(titles[j], fontsize=14)\n",
    "            ax.axis(\"off\")\n",
    "\n",
    "    fig.savefig(os.path.join(save_path, f\"full_comparison_grid_{train_data_path.split('/')[-2]}_sxdl.png\"), bbox_inches='tight', dpi=150)\n",
    "    plt.close(fig)\n",
    "    #print(f\"Grid saved to {os.path.join(save_path, f'full_comparison_grid.png')\n",
    "\n",
    "\n",
    "\n",
    "\n",
    "comparison_grid(\n",
    "    noise_conv_augmented_path = '/home/jupyter/aelif_augmentation/results_images_sdxl/backpack/aug/',\n",
    "    mask_augmented_path = '/home/jupyter/aelif_augmentation/results_images_sdxl/backpack/aug-mask/',\n",
    "    original_augmented_path = '/home/jupyter/aelif_augmentation/results_images_sdxl/backpack/original/',\n",
    "    train_data_path = '/home/jupyter/aelif_augmentation/dreambooth/dataset/backpack/'\n",
    ")"
   ]
  },
  {
   "cell_type": "code",
   "execution_count": 42,
   "id": "6eb2d000-cab2-4fb1-a188-f69957297fb0",
   "metadata": {
    "tags": []
   },
   "outputs": [],
   "source": [
    "comparison_grid(\n",
    "    noise_conv_augmented_path = '/home/jupyter/aelif_augmentation/results_images_sdxl/candle/aug/',\n",
    "    mask_augmented_path = '/home/jupyter/aelif_augmentation/results_images_sdxl/candle/aug-mask/',\n",
    "    original_augmented_path = '/home/jupyter/aelif_augmentation/results_images_sdxl/candle/original/',\n",
    "    train_data_path = '/home/jupyter/aelif_augmentation/dreambooth/dataset/candle/'\n",
    ")"
   ]
  },
  {
   "cell_type": "code",
   "execution_count": 43,
   "id": "3f6c3139-e88d-45dd-8bbe-15c0e98c7fe8",
   "metadata": {
    "tags": []
   },
   "outputs": [],
   "source": [
    "comparison_grid(\n",
    "    noise_conv_augmented_path = '/home/jupyter/aelif_augmentation/results_images_sdxl/clock/aug/',\n",
    "    mask_augmented_path = '/home/jupyter/aelif_augmentation/results_images_sdxl/clock/aug-mask/',\n",
    "    original_augmented_path = '/home/jupyter/aelif_augmentation/results_images_sdxl/clock/original/',\n",
    "    train_data_path = '/home/jupyter/aelif_augmentation/dreambooth/dataset/clock/'\n",
    ")"
   ]
  },
  {
   "cell_type": "code",
   "execution_count": 44,
   "id": "043b7930-99cb-4865-80f0-006c466dcf02",
   "metadata": {},
   "outputs": [],
   "source": [
    "comparison_grid(\n",
    "    noise_conv_augmented_path = '/home/jupyter/aelif_augmentation/results_images_sdxl/cat/aug/',\n",
    "    mask_augmented_path = '/home/jupyter/aelif_augmentation/results_images_sdxl/cat/aug-mask/',\n",
    "    original_augmented_path = '/home/jupyter/aelif_augmentation/results_images_sdxl/cat/original/',\n",
    "    train_data_path = '/home/jupyter/aelif_augmentation/dreambooth/dataset/cat/'\n",
    ")"
   ]
  },
  {
   "cell_type": "code",
   "execution_count": 45,
   "id": "0f2d3bff-2dc8-427b-9591-707fec3ccafe",
   "metadata": {
    "tags": []
   },
   "outputs": [],
   "source": [
    "comparison_grid(\n",
    "    noise_conv_augmented_path = '/home/jupyter/aelif_augmentation/results_images_sdxl/colorful_sneaker/aug/',\n",
    "    mask_augmented_path = '/home/jupyter/aelif_augmentation/results_images_sdxl/colorful_sneaker/aug-mask/',\n",
    "    original_augmented_path = '/home/jupyter/aelif_augmentation/results_images_sdxl/colorful_sneaker/original/',\n",
    "    train_data_path = '/home/jupyter/aelif_augmentation/dreambooth/dataset/colorful_sneaker/'\n",
    ")"
   ]
  },
  {
   "cell_type": "code",
   "execution_count": 46,
   "id": "4ad8ff5b-44b7-414a-95a5-41f7512873bd",
   "metadata": {
    "tags": []
   },
   "outputs": [],
   "source": [
    "comparison_grid(\n",
    "    noise_conv_augmented_path = '/home/jupyter/aelif_augmentation/results_images_sdxl/dog_data/aug/',\n",
    "    mask_augmented_path = '/home/jupyter/aelif_augmentation/results_images_sdxl/dog_data/aug-mask/',\n",
    "    original_augmented_path = '/home/jupyter/aelif_augmentation/results_images_sdxl/dog_data/original/',\n",
    "    train_data_path = '/home/jupyter/aelif_augmentation/dreambooth/dataset/dog_data/'\n",
    ")"
   ]
  },
  {
   "cell_type": "code",
   "execution_count": 47,
   "id": "ae86e2aa-cb4e-4168-b09f-40157dc77b55",
   "metadata": {
    "tags": []
   },
   "outputs": [],
   "source": [
    "comparison_grid(\n",
    "    noise_conv_augmented_path = '/home/jupyter/aelif_augmentation/results_images_sdxl/dog2/aug/',\n",
    "    mask_augmented_path = '/home/jupyter/aelif_augmentation/results_images_sdxl/dog2/aug-mask/',\n",
    "    original_augmented_path = '/home/jupyter/aelif_augmentation/results_images_sdxl/dog2/original/',\n",
    "    train_data_path = '/home/jupyter/aelif_augmentation/dreambooth/dataset/dog2/'\n",
    ")"
   ]
  },
  {
   "cell_type": "code",
   "execution_count": 48,
   "id": "b49cac63-862f-407a-be09-cfe495f564b5",
   "metadata": {
    "tags": []
   },
   "outputs": [],
   "source": [
    "comparison_grid(\n",
    "    noise_conv_augmented_path = '/home/jupyter/aelif_augmentation/results_images_sdxl/dog3/aug/',\n",
    "    mask_augmented_path = '/home/jupyter/aelif_augmentation/results_images_sdxl/dog3/aug-mask/',\n",
    "    original_augmented_path = '/home/jupyter/aelif_augmentation/results_images_sdxl/dog3/original/',\n",
    "    train_data_path = '/home/jupyter/aelif_augmentation/dreambooth/dataset/dog3/'\n",
    ")"
   ]
  },
  {
   "cell_type": "code",
   "execution_count": 49,
   "id": "ce7649cb-151c-478e-a941-0f256da47a7e",
   "metadata": {
    "tags": []
   },
   "outputs": [],
   "source": [
    "comparison_grid(\n",
    "    noise_conv_augmented_path = '/home/jupyter/aelif_augmentation/results_images_sdxl/teapot/aug/',\n",
    "    mask_augmented_path = '/home/jupyter/aelif_augmentation/results_images_sdxl/teapot/aug-mask/',\n",
    "    original_augmented_path = '/home/jupyter/aelif_augmentation/results_images_sdxl/teapot/original/',\n",
    "    train_data_path = '/home/jupyter/aelif_augmentation/dreambooth/dataset/teapot/'\n",
    ")"
   ]
  },
  {
   "cell_type": "code",
   "execution_count": 50,
   "id": "d837a3a4-9f04-4932-832e-02ed4f315f2f",
   "metadata": {
    "tags": []
   },
   "outputs": [],
   "source": [
    "comparison_grid(\n",
    "    noise_conv_augmented_path = '/home/jupyter/aelif_augmentation/results_images_sdxl/vase/aug/',\n",
    "    mask_augmented_path = '/home/jupyter/aelif_augmentation/results_images_sdxl/vase/aug-mask/',\n",
    "    original_augmented_path = '/home/jupyter/aelif_augmentation/results_images_sdxl/vase/original/',\n",
    "    train_data_path = '/home/jupyter/aelif_augmentation/dreambooth/dataset/vase/'\n",
    ")"
   ]
  },
  {
   "cell_type": "code",
   "execution_count": 13,
   "id": "6e9213b3-2ec7-427b-9ead-286fad6174ec",
   "metadata": {
    "tags": []
   },
   "outputs": [
    {
     "name": "stderr",
     "output_type": "stream",
     "text": [
      "100%|████████████████████████████████████████| 338M/338M [00:02<00:00, 141MiB/s]\n"
     ]
    }
   ],
   "source": [
    "import clip\n",
    "\n",
    "model, preprocess = clip.load(\"ViT-B/32\", device='cuda')"
   ]
  },
  {
   "cell_type": "code",
   "execution_count": null,
   "id": "e90a17ec-53db-42a0-b7bf-46f69c077415",
   "metadata": {},
   "outputs": [],
   "source": [
    "from PIL import Image\n",
    "import torch\n",
    "from scipy.stats import wasserstein_distance, wasserstein_distance_nd\n",
    "\n",
    "def compare_image_embeds(\n",
    "    model, preprocess\n",
    "    noise_conv_augmented_path = '/home/jupyter/aelif_augmentation/results_images/vase/aug/',\n",
    "    mask_augmented_path = '/home/jupyter/aelif_augmentation/results_images/vase/aug-mask/',\n",
    "    original_augmented_path = '/home/jupyter/aelif_augmentation/results_images/vase/original/',\n",
    "    train_data_path = '/home/jupyter/aelif_augmentation/dreambooth/dataset/vase/',\n",
    "    \n",
    "    ):\n",
    "    \n",
    "    noise_conv_embeds = []\n",
    "    mask_embeds = []\n",
    "    orig_emdbeds = []\n",
    "    train_embeds = []\n",
    "    \n",
    "    for img in os.listdir(noise_conv_augmented_path):\n",
    "        img = Image.open(noise_conv_augmented_path+img)\n",
    "        img_emb = model.encode_image(preprocess(img).unsqueeze(0).to(device))\n",
    "        noise_conv_embeds.append(noise_conv_embeds)\n",
    "        \n",
    "    for img in os.listdir(mask_augmented_path):\n",
    "        img = Image.open(mask_augmented_path+img)\n",
    "        img_emb = model.encode_image(preprocess(img).unsqueeze(0).to(device))\n",
    "        mask_embeds.append(img_emb)    \n",
    "        \n",
    "    for img in os.listdir(original_augmented_path):\n",
    "        img = Image.open(original_augmented_path+img)\n",
    "        img_emb = model.encode_image(preprocess(img).unsqueeze(0).to(device))\n",
    "        orig_emdbeds.append(img_emb) \n",
    "    \n",
    "    for img in os.listdir(train_data_path):\n",
    "        img = Image.open(train_data_path+img)\n",
    "        img_emb = model.encode_image(preprocess(img).unsqueeze(0).to(device))\n",
    "        train_embeds.append(img_emb) \n",
    "    \n",
    "    \n",
    "    noise_conv_embeds = torch.stack(noise_conv_embeds)\n",
    "    mask_embeds = torch.stack(mask_embeds)\n",
    "    orig_emdbeds = torch.stack(orig_emdbeds)\n",
    "    train_embeds = torch.stack(train_embeds)\n",
    "    \n",
    "    \n",
    "    \n",
    "    "
   ]
  },
  {
   "cell_type": "code",
   "execution_count": 1,
   "id": "d5e9212f",
   "metadata": {},
   "outputs": [],
   "source": [
    "import clip\n",
    "\n",
    "model, preprocess = clip.load(\"ViT-B/32\", device='cuda')"
   ]
  },
  {
   "cell_type": "code",
   "execution_count": 22,
   "id": "1a0ffb05",
   "metadata": {},
   "outputs": [
    {
     "name": "stdout",
     "output_type": "stream",
     "text": [
      "tensor([1.0010], device='cuda:0', dtype=torch.float16, grad_fn=<SumBackward1>)\n"
     ]
    }
   ],
   "source": [
    "from PIL import Image\n",
    "import matplotlib.pyplot as plt\n",
    "import torch\n",
    "\n",
    "cos = torch.nn.CosineSimilarity(dim=1, eps=1e-6)\n",
    "orig_path = '/home/jupyter/aelif_augmentation/res/aug_type_noise_conv_prmpt_1_aug_magnitude_0.png'\n",
    "aug_paths = '/home/jupyter/aelif_augmentation/res/aug_type_noise_conv_prmpt_1_std_100_aug_magnitude_<mag>.png'\n",
    "other_paths = [aug_paths.replace('<mag>', f'{i}') for i in range(10, 110, 10)]\n",
    "sim = []\n",
    "\n",
    "device = 'cuda'\n",
    "orig_embeds = model.encode_image(preprocess(Image.open(orig_path)).unsqueeze(0).to(device))\n",
    "print(cos(orig_embeds, orig_embeds))\n",
    "sim.append(cos(orig_embeds, orig_embeds).item())\n",
    "for img_path in other_paths:\n",
    "    img = Image.open(img_path)\n",
    "    embeds = model.encode_image(preprocess(img).unsqueeze(0).to(device))\n",
    "\n",
    "    sim.append(cos(embeds, orig_embeds).item())\n"
   ]
  }
 ],
 "metadata": {
  "environment": {
   "kernel": "venv",
   "name": ".m126",
   "type": "gcloud",
   "uri": "us-docker.pkg.dev/deeplearning-platform-release/gcr.io/:m126"
  },
  "kernelspec": {
   "display_name": "venv",
   "language": "python",
   "name": "python3"
  },
  "language_info": {
   "codemirror_mode": {
    "name": "ipython",
    "version": 3
   },
   "file_extension": ".py",
   "mimetype": "text/x-python",
   "name": "python",
   "nbconvert_exporter": "python",
   "pygments_lexer": "ipython3",
   "version": "3.10.15"
  }
 },
 "nbformat": 4,
 "nbformat_minor": 5
}
